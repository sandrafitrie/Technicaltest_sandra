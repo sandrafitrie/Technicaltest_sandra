{
 "cells": [
  {
   "cell_type": "raw",
   "metadata": {},
   "source": [
    "from selenium import webdriver"
   ]
  },
  {
   "cell_type": "markdown",
   "metadata": {},
   "source": [
    "\n",
    "# Automation pada login user"
   ]
  },
  {
   "cell_type": "markdown",
   "metadata": {},
   "source": [
    "driver = webdriver.Chrome(r\"C:\\Program Files\\Google\\Chrome\\Application\\chrome.exe\")\n",
    "driver.get(\"https://www.kompas.com\")\n",
    "driver.find_element_by_xpath(\"//div[@id'sso_g_signin']\").click()"
   ]
  },
  {
   "cell_type": "markdown",
   "metadata": {},
   "source": [
    "# Automatiion pada search berita"
   ]
  },
  {
   "cell_type": "markdown",
   "metadata": {},
   "source": [
    "driver = webdriver.Chrome(r\"C:\\Program Files\\Google\\Chrome\\Application\\chrome.exe\")\n",
    "driver.get(\"https://www.kompas.com\")\n",
    "driver.find_element_by_name(\"q\").send_keys(\"Bola\")\n",
    "driver.find_element_by_name(\"submit\").click()\n",
    "driver.find_element_by_link_text(\"gsc-thumbnail-inside\").click()\n",
    "driver.quit()"
   ]
  }
 ],
 "metadata": {
  "kernelspec": {
   "display_name": "Python 3",
   "language": "python",
   "name": "python3"
  },
  "language_info": {
   "codemirror_mode": {
    "name": "ipython",
    "version": 3
   },
   "file_extension": ".py",
   "mimetype": "text/x-python",
   "name": "python",
   "nbconvert_exporter": "python",
   "pygments_lexer": "ipython3",
   "version": "3.8.6"
  }
 },
 "nbformat": 4,
 "nbformat_minor": 4
}
